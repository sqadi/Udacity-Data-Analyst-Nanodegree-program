{
 "cells": [
  {
   "cell_type": "markdown",
   "metadata": {},
   "source": [
    "# The Analysis of Titanic Data \n",
    "\n",
    "\n",
    "\n",
    "\n",
    "\n",
    "##  *Abstract*\n",
    "\n",
    "\n",
    "\n",
    "\n",
    "This project aims to performing the different phases of Data Analysis on the Titanic dataset. This dataset contains demographics and passenger information from 891 of the 2224 passengers and crew who were on board Titanic. The description of this dataset has been taken from the Kaggle website.\n",
    "\n",
    "\n",
    "\n",
    "\n",
    "\n",
    "##  *Questions and Problem Definition*\n",
    "\n",
    "\n",
    "According to Kaggle, The sinking of the RMS Titanic is one of the most infamous shipwrecks in history. On April 15, 1912, during her maiden voyage, the Titanic sank after colliding with an iceberg, killing 1502 out of 2224 passengers and crew taking into consideration the following notes:\n",
    "\n",
    "- There were not enough lifeboats for the passengers and crew\n",
    "- Some groups of people were more likely to survive than others, such as women, children, and the upper-class\n",
    "\n",
    "Consequently and after reviewing the dataset, the following questions have been used to start analysing this data:\n",
    "\n",
    "\n",
    "\n",
    "- Did the gender determine the chances of survival ?\n",
    "  - survival rate of males and females\n",
    "- Did the age factor affect the survival chances of passengers and crews ?\n",
    "   - The survival rate of children( < 18) and adults.\n",
    "- Did socio-economic status affect survival rate?\n",
    "- Did family relations on the ship inrease/decrease survivability ?\n",
    "  - having Sibling or Spouse vs without having Sibling or Spouse\n",
    "  - having Children or Parent vs without having Children or Parent\n",
    "  \n",
    "\n",
    "\n",
    "\n",
    "## *Data Wrangling*\n",
    "\n",
    "### *Data Description*\n",
    "\n",
    "\n",
    "\n",
    "\n",
    "\n",
    "|Column        | Description   |\n",
    "|:-------------|:-------------| \n",
    "| survival      | Survival (0 = No; 1 = Yes)| \n",
    "| pclass      |Passenger Class (1 = 1st; 2 = 2nd; 3 = 3rd)|\n",
    "| name | Name|\n",
    "| sex | Sex |\n",
    "| age | Age |\n",
    "| sibsp | Number of Siblings/ Spouses Aboard | \n",
    "| parch | Number of Parents/ Children Aboard |\n",
    "| ticket| Ticket Number |\n",
    "| fare | Passenger Fare |\n",
    "| cabin | Cabin |\n",
    "| embarked | Port of Embarkation (C = Cherbourg; Q = Queenstown; S = Southampton)| \n",
    "\n",
    "#### **Variable Notes**\n",
    "\n",
    "- *Pclass* is a proxy for socio-economic status(SES): 1st ~ Upper; 2nd ~ Middle; 3rd ~ Lower\n",
    "- *Age* is in Years; Fractional if Age less than One (1);If the Age is Estimated, it is in the form xx.5\n",
    "\n",
    "\n",
    "With respect to the family relation variables (i.e. sibsp and parch) some relations were ignored. The following are the definitions used for sibsp and parch:\n",
    "\n",
    "\n",
    "- **Sibling**:  Brother, Sister, Stepbrother, or Stepsister of Passenger Aboard Titanic\n",
    "- **Spouse**:   Husband or Wife of Passenger Aboard Titanic (Mistresses and Fiances Ignored)\n",
    "- **Parent**:   Mother or Father of Passenger Aboard Titanic\n",
    "- **Child**:    Son, Daughter, Stepson, or Stepdaughter of Passenger Aboard Titanic\n",
    "\n",
    "\n",
    "\n",
    "Other family relatives excluded from this study include cousins, nephews/nieces, aunts/uncles, and in-laws. Some children travelled only with a nanny, therefore parch=0 for them. As well, some travelled with very close friends or neighbors in a village, however, the definitions do not support such relations.\n",
    "\n",
    "### *Data Acquisition*\n",
    "\n",
    "\n"
   ]
  },
  {
   "cell_type": "code",
   "execution_count": 56,
   "metadata": {
    "collapsed": true
   },
   "outputs": [],
   "source": [
    "# Render plots inline\n",
    "%matplotlib inline\n",
    "\n",
    "# Data Analysis libraries\n",
    "import pandas as pd\n",
    "import numpy as np\n",
    "import scipy as sp\n",
    "import scipy.stats as stats\n",
    "\n",
    "# Visualization libraries\n",
    "import matplotlib.pyplot as plt\n",
    "import seaborn as sns\n",
    "\n",
    "# Seaborn plots properties\n",
    "sns.set(style=\"ticks\", context=\"paper\", palette=\"colorblind\")\n",
    "sns.set_context(rc={\"figure.figsize\": (7, 6)})\n",
    "\n",
    "# Load the dataset \n",
    "titanic_data = pd.read_csv('titanic-data.csv')\n"
   ]
  },
  {
   "cell_type": "code",
   "execution_count": 4,
   "metadata": {},
   "outputs": [
    {
     "data": {
      "text/html": [
       "<div>\n",
       "<style>\n",
       "    .dataframe thead tr:only-child th {\n",
       "        text-align: right;\n",
       "    }\n",
       "\n",
       "    .dataframe thead th {\n",
       "        text-align: left;\n",
       "    }\n",
       "\n",
       "    .dataframe tbody tr th {\n",
       "        vertical-align: top;\n",
       "    }\n",
       "</style>\n",
       "<table border=\"1\" class=\"dataframe\">\n",
       "  <thead>\n",
       "    <tr style=\"text-align: right;\">\n",
       "      <th></th>\n",
       "      <th>PassengerId</th>\n",
       "      <th>Survived</th>\n",
       "      <th>Pclass</th>\n",
       "      <th>Name</th>\n",
       "      <th>Sex</th>\n",
       "      <th>Age</th>\n",
       "      <th>SibSp</th>\n",
       "      <th>Parch</th>\n",
       "      <th>Ticket</th>\n",
       "      <th>Fare</th>\n",
       "      <th>Cabin</th>\n",
       "      <th>Embarked</th>\n",
       "    </tr>\n",
       "  </thead>\n",
       "  <tbody>\n",
       "    <tr>\n",
       "      <th>0</th>\n",
       "      <td>1</td>\n",
       "      <td>0</td>\n",
       "      <td>3</td>\n",
       "      <td>Braund, Mr. Owen Harris</td>\n",
       "      <td>male</td>\n",
       "      <td>22.0</td>\n",
       "      <td>1</td>\n",
       "      <td>0</td>\n",
       "      <td>A/5 21171</td>\n",
       "      <td>7.2500</td>\n",
       "      <td>NaN</td>\n",
       "      <td>S</td>\n",
       "    </tr>\n",
       "    <tr>\n",
       "      <th>1</th>\n",
       "      <td>2</td>\n",
       "      <td>1</td>\n",
       "      <td>1</td>\n",
       "      <td>Cumings, Mrs. John Bradley (Florence Briggs Th...</td>\n",
       "      <td>female</td>\n",
       "      <td>38.0</td>\n",
       "      <td>1</td>\n",
       "      <td>0</td>\n",
       "      <td>PC 17599</td>\n",
       "      <td>71.2833</td>\n",
       "      <td>C85</td>\n",
       "      <td>C</td>\n",
       "    </tr>\n",
       "    <tr>\n",
       "      <th>2</th>\n",
       "      <td>3</td>\n",
       "      <td>1</td>\n",
       "      <td>3</td>\n",
       "      <td>Heikkinen, Miss. Laina</td>\n",
       "      <td>female</td>\n",
       "      <td>26.0</td>\n",
       "      <td>0</td>\n",
       "      <td>0</td>\n",
       "      <td>STON/O2. 3101282</td>\n",
       "      <td>7.9250</td>\n",
       "      <td>NaN</td>\n",
       "      <td>S</td>\n",
       "    </tr>\n",
       "    <tr>\n",
       "      <th>3</th>\n",
       "      <td>4</td>\n",
       "      <td>1</td>\n",
       "      <td>1</td>\n",
       "      <td>Futrelle, Mrs. Jacques Heath (Lily May Peel)</td>\n",
       "      <td>female</td>\n",
       "      <td>35.0</td>\n",
       "      <td>1</td>\n",
       "      <td>0</td>\n",
       "      <td>113803</td>\n",
       "      <td>53.1000</td>\n",
       "      <td>C123</td>\n",
       "      <td>S</td>\n",
       "    </tr>\n",
       "    <tr>\n",
       "      <th>4</th>\n",
       "      <td>5</td>\n",
       "      <td>0</td>\n",
       "      <td>3</td>\n",
       "      <td>Allen, Mr. William Henry</td>\n",
       "      <td>male</td>\n",
       "      <td>35.0</td>\n",
       "      <td>0</td>\n",
       "      <td>0</td>\n",
       "      <td>373450</td>\n",
       "      <td>8.0500</td>\n",
       "      <td>NaN</td>\n",
       "      <td>S</td>\n",
       "    </tr>\n",
       "  </tbody>\n",
       "</table>\n",
       "</div>"
      ],
      "text/plain": [
       "   PassengerId  Survived  Pclass  \\\n",
       "0            1         0       3   \n",
       "1            2         1       1   \n",
       "2            3         1       3   \n",
       "3            4         1       1   \n",
       "4            5         0       3   \n",
       "\n",
       "                                                Name     Sex   Age  SibSp  \\\n",
       "0                            Braund, Mr. Owen Harris    male  22.0      1   \n",
       "1  Cumings, Mrs. John Bradley (Florence Briggs Th...  female  38.0      1   \n",
       "2                             Heikkinen, Miss. Laina  female  26.0      0   \n",
       "3       Futrelle, Mrs. Jacques Heath (Lily May Peel)  female  35.0      1   \n",
       "4                           Allen, Mr. William Henry    male  35.0      0   \n",
       "\n",
       "   Parch            Ticket     Fare Cabin Embarked  \n",
       "0      0         A/5 21171   7.2500   NaN        S  \n",
       "1      0          PC 17599  71.2833   C85        C  \n",
       "2      0  STON/O2. 3101282   7.9250   NaN        S  \n",
       "3      0            113803  53.1000  C123        S  \n",
       "4      0            373450   8.0500   NaN        S  "
      ]
     },
     "execution_count": 4,
     "metadata": {},
     "output_type": "execute_result"
    }
   ],
   "source": [
    "# Print the first few records to review entries\n",
    "titanic_data.head()"
   ]
  },
  {
   "cell_type": "code",
   "execution_count": 5,
   "metadata": {},
   "outputs": [
    {
     "data": {
      "text/html": [
       "<div>\n",
       "<style>\n",
       "    .dataframe thead tr:only-child th {\n",
       "        text-align: right;\n",
       "    }\n",
       "\n",
       "    .dataframe thead th {\n",
       "        text-align: left;\n",
       "    }\n",
       "\n",
       "    .dataframe tbody tr th {\n",
       "        vertical-align: top;\n",
       "    }\n",
       "</style>\n",
       "<table border=\"1\" class=\"dataframe\">\n",
       "  <thead>\n",
       "    <tr style=\"text-align: right;\">\n",
       "      <th></th>\n",
       "      <th>PassengerId</th>\n",
       "      <th>Survived</th>\n",
       "      <th>Pclass</th>\n",
       "      <th>Name</th>\n",
       "      <th>Sex</th>\n",
       "      <th>Age</th>\n",
       "      <th>SibSp</th>\n",
       "      <th>Parch</th>\n",
       "      <th>Ticket</th>\n",
       "      <th>Fare</th>\n",
       "      <th>Cabin</th>\n",
       "      <th>Embarked</th>\n",
       "    </tr>\n",
       "  </thead>\n",
       "  <tbody>\n",
       "    <tr>\n",
       "      <th>886</th>\n",
       "      <td>887</td>\n",
       "      <td>0</td>\n",
       "      <td>2</td>\n",
       "      <td>Montvila, Rev. Juozas</td>\n",
       "      <td>male</td>\n",
       "      <td>27.0</td>\n",
       "      <td>0</td>\n",
       "      <td>0</td>\n",
       "      <td>211536</td>\n",
       "      <td>13.00</td>\n",
       "      <td>NaN</td>\n",
       "      <td>S</td>\n",
       "    </tr>\n",
       "    <tr>\n",
       "      <th>887</th>\n",
       "      <td>888</td>\n",
       "      <td>1</td>\n",
       "      <td>1</td>\n",
       "      <td>Graham, Miss. Margaret Edith</td>\n",
       "      <td>female</td>\n",
       "      <td>19.0</td>\n",
       "      <td>0</td>\n",
       "      <td>0</td>\n",
       "      <td>112053</td>\n",
       "      <td>30.00</td>\n",
       "      <td>B42</td>\n",
       "      <td>S</td>\n",
       "    </tr>\n",
       "    <tr>\n",
       "      <th>888</th>\n",
       "      <td>889</td>\n",
       "      <td>0</td>\n",
       "      <td>3</td>\n",
       "      <td>Johnston, Miss. Catherine Helen \"Carrie\"</td>\n",
       "      <td>female</td>\n",
       "      <td>NaN</td>\n",
       "      <td>1</td>\n",
       "      <td>2</td>\n",
       "      <td>W./C. 6607</td>\n",
       "      <td>23.45</td>\n",
       "      <td>NaN</td>\n",
       "      <td>S</td>\n",
       "    </tr>\n",
       "    <tr>\n",
       "      <th>889</th>\n",
       "      <td>890</td>\n",
       "      <td>1</td>\n",
       "      <td>1</td>\n",
       "      <td>Behr, Mr. Karl Howell</td>\n",
       "      <td>male</td>\n",
       "      <td>26.0</td>\n",
       "      <td>0</td>\n",
       "      <td>0</td>\n",
       "      <td>111369</td>\n",
       "      <td>30.00</td>\n",
       "      <td>C148</td>\n",
       "      <td>C</td>\n",
       "    </tr>\n",
       "    <tr>\n",
       "      <th>890</th>\n",
       "      <td>891</td>\n",
       "      <td>0</td>\n",
       "      <td>3</td>\n",
       "      <td>Dooley, Mr. Patrick</td>\n",
       "      <td>male</td>\n",
       "      <td>32.0</td>\n",
       "      <td>0</td>\n",
       "      <td>0</td>\n",
       "      <td>370376</td>\n",
       "      <td>7.75</td>\n",
       "      <td>NaN</td>\n",
       "      <td>Q</td>\n",
       "    </tr>\n",
       "  </tbody>\n",
       "</table>\n",
       "</div>"
      ],
      "text/plain": [
       "     PassengerId  Survived  Pclass                                      Name  \\\n",
       "886          887         0       2                     Montvila, Rev. Juozas   \n",
       "887          888         1       1              Graham, Miss. Margaret Edith   \n",
       "888          889         0       3  Johnston, Miss. Catherine Helen \"Carrie\"   \n",
       "889          890         1       1                     Behr, Mr. Karl Howell   \n",
       "890          891         0       3                       Dooley, Mr. Patrick   \n",
       "\n",
       "        Sex   Age  SibSp  Parch      Ticket   Fare Cabin Embarked  \n",
       "886    male  27.0      0      0      211536  13.00   NaN        S  \n",
       "887  female  19.0      0      0      112053  30.00   B42        S  \n",
       "888  female   NaN      1      2  W./C. 6607  23.45   NaN        S  \n",
       "889    male  26.0      0      0      111369  30.00  C148        C  \n",
       "890    male  32.0      0      0      370376   7.75   NaN        Q  "
      ]
     },
     "execution_count": 5,
     "metadata": {},
     "output_type": "execute_result"
    }
   ],
   "source": [
    "# Print the last few records to review entries\n",
    "titanic_data.tail()"
   ]
  },
  {
   "cell_type": "markdown",
   "metadata": {},
   "source": [
    "### *Data Investigation*\n",
    "\n"
   ]
  },
  {
   "cell_type": "code",
   "execution_count": 6,
   "metadata": {},
   "outputs": [
    {
     "name": "stdout",
     "output_type": "stream",
     "text": [
      "<class 'pandas.core.frame.DataFrame'>\n",
      "RangeIndex: 891 entries, 0 to 890\n",
      "Data columns (total 12 columns):\n",
      "PassengerId    891 non-null int64\n",
      "Survived       891 non-null int64\n",
      "Pclass         891 non-null int64\n",
      "Name           891 non-null object\n",
      "Sex            891 non-null object\n",
      "Age            714 non-null float64\n",
      "SibSp          891 non-null int64\n",
      "Parch          891 non-null int64\n",
      "Ticket         891 non-null object\n",
      "Fare           891 non-null float64\n",
      "Cabin          204 non-null object\n",
      "Embarked       889 non-null object\n",
      "dtypes: float64(2), int64(5), object(5)\n",
      "memory usage: 83.6+ KB\n"
     ]
    }
   ],
   "source": [
    "#Review data type, total entries\n",
    "titanic_data.info()"
   ]
  },
  {
   "cell_type": "markdown",
   "metadata": {},
   "source": [
    "It can be seen that all data types are proper with its related feature"
   ]
  },
  {
   "cell_type": "code",
   "execution_count": 7,
   "metadata": {},
   "outputs": [
    {
     "data": {
      "text/html": [
       "<div>\n",
       "<style>\n",
       "    .dataframe thead tr:only-child th {\n",
       "        text-align: right;\n",
       "    }\n",
       "\n",
       "    .dataframe thead th {\n",
       "        text-align: left;\n",
       "    }\n",
       "\n",
       "    .dataframe tbody tr th {\n",
       "        vertical-align: top;\n",
       "    }\n",
       "</style>\n",
       "<table border=\"1\" class=\"dataframe\">\n",
       "  <thead>\n",
       "    <tr style=\"text-align: right;\">\n",
       "      <th></th>\n",
       "      <th>PassengerId</th>\n",
       "      <th>Survived</th>\n",
       "      <th>Pclass</th>\n",
       "      <th>Age</th>\n",
       "      <th>SibSp</th>\n",
       "      <th>Parch</th>\n",
       "      <th>Fare</th>\n",
       "    </tr>\n",
       "  </thead>\n",
       "  <tbody>\n",
       "    <tr>\n",
       "      <th>count</th>\n",
       "      <td>891.000000</td>\n",
       "      <td>891.000000</td>\n",
       "      <td>891.000000</td>\n",
       "      <td>714.000000</td>\n",
       "      <td>891.000000</td>\n",
       "      <td>891.000000</td>\n",
       "      <td>891.000000</td>\n",
       "    </tr>\n",
       "    <tr>\n",
       "      <th>mean</th>\n",
       "      <td>446.000000</td>\n",
       "      <td>0.383838</td>\n",
       "      <td>2.308642</td>\n",
       "      <td>29.699118</td>\n",
       "      <td>0.523008</td>\n",
       "      <td>0.381594</td>\n",
       "      <td>32.204208</td>\n",
       "    </tr>\n",
       "    <tr>\n",
       "      <th>std</th>\n",
       "      <td>257.353842</td>\n",
       "      <td>0.486592</td>\n",
       "      <td>0.836071</td>\n",
       "      <td>14.526497</td>\n",
       "      <td>1.102743</td>\n",
       "      <td>0.806057</td>\n",
       "      <td>49.693429</td>\n",
       "    </tr>\n",
       "    <tr>\n",
       "      <th>min</th>\n",
       "      <td>1.000000</td>\n",
       "      <td>0.000000</td>\n",
       "      <td>1.000000</td>\n",
       "      <td>0.420000</td>\n",
       "      <td>0.000000</td>\n",
       "      <td>0.000000</td>\n",
       "      <td>0.000000</td>\n",
       "    </tr>\n",
       "    <tr>\n",
       "      <th>25%</th>\n",
       "      <td>223.500000</td>\n",
       "      <td>0.000000</td>\n",
       "      <td>2.000000</td>\n",
       "      <td>20.125000</td>\n",
       "      <td>0.000000</td>\n",
       "      <td>0.000000</td>\n",
       "      <td>7.910400</td>\n",
       "    </tr>\n",
       "    <tr>\n",
       "      <th>50%</th>\n",
       "      <td>446.000000</td>\n",
       "      <td>0.000000</td>\n",
       "      <td>3.000000</td>\n",
       "      <td>28.000000</td>\n",
       "      <td>0.000000</td>\n",
       "      <td>0.000000</td>\n",
       "      <td>14.454200</td>\n",
       "    </tr>\n",
       "    <tr>\n",
       "      <th>75%</th>\n",
       "      <td>668.500000</td>\n",
       "      <td>1.000000</td>\n",
       "      <td>3.000000</td>\n",
       "      <td>38.000000</td>\n",
       "      <td>1.000000</td>\n",
       "      <td>0.000000</td>\n",
       "      <td>31.000000</td>\n",
       "    </tr>\n",
       "    <tr>\n",
       "      <th>max</th>\n",
       "      <td>891.000000</td>\n",
       "      <td>1.000000</td>\n",
       "      <td>3.000000</td>\n",
       "      <td>80.000000</td>\n",
       "      <td>8.000000</td>\n",
       "      <td>6.000000</td>\n",
       "      <td>512.329200</td>\n",
       "    </tr>\n",
       "  </tbody>\n",
       "</table>\n",
       "</div>"
      ],
      "text/plain": [
       "       PassengerId    Survived      Pclass         Age       SibSp  \\\n",
       "count   891.000000  891.000000  891.000000  714.000000  891.000000   \n",
       "mean    446.000000    0.383838    2.308642   29.699118    0.523008   \n",
       "std     257.353842    0.486592    0.836071   14.526497    1.102743   \n",
       "min       1.000000    0.000000    1.000000    0.420000    0.000000   \n",
       "25%     223.500000    0.000000    2.000000   20.125000    0.000000   \n",
       "50%     446.000000    0.000000    3.000000   28.000000    0.000000   \n",
       "75%     668.500000    1.000000    3.000000   38.000000    1.000000   \n",
       "max     891.000000    1.000000    3.000000   80.000000    8.000000   \n",
       "\n",
       "            Parch        Fare  \n",
       "count  891.000000  891.000000  \n",
       "mean     0.381594   32.204208  \n",
       "std      0.806057   49.693429  \n",
       "min      0.000000    0.000000  \n",
       "25%      0.000000    7.910400  \n",
       "50%      0.000000   14.454200  \n",
       "75%      0.000000   31.000000  \n",
       "max      6.000000  512.329200  "
      ]
     },
     "execution_count": 7,
     "metadata": {},
     "output_type": "execute_result"
    }
   ],
   "source": [
    "#Investigate data by summary statistics\n",
    "titanic_data.describe()\n"
   ]
  },
  {
   "cell_type": "code",
   "execution_count": 8,
   "metadata": {},
   "outputs": [
    {
     "data": {
      "text/html": [
       "<div>\n",
       "<style>\n",
       "    .dataframe thead tr:only-child th {\n",
       "        text-align: right;\n",
       "    }\n",
       "\n",
       "    .dataframe thead th {\n",
       "        text-align: left;\n",
       "    }\n",
       "\n",
       "    .dataframe tbody tr th {\n",
       "        vertical-align: top;\n",
       "    }\n",
       "</style>\n",
       "<table border=\"1\" class=\"dataframe\">\n",
       "  <thead>\n",
       "    <tr style=\"text-align: right;\">\n",
       "      <th></th>\n",
       "      <th>Name</th>\n",
       "      <th>Sex</th>\n",
       "      <th>Ticket</th>\n",
       "      <th>Cabin</th>\n",
       "      <th>Embarked</th>\n",
       "    </tr>\n",
       "  </thead>\n",
       "  <tbody>\n",
       "    <tr>\n",
       "      <th>count</th>\n",
       "      <td>891</td>\n",
       "      <td>891</td>\n",
       "      <td>891</td>\n",
       "      <td>204</td>\n",
       "      <td>889</td>\n",
       "    </tr>\n",
       "    <tr>\n",
       "      <th>unique</th>\n",
       "      <td>891</td>\n",
       "      <td>2</td>\n",
       "      <td>681</td>\n",
       "      <td>147</td>\n",
       "      <td>3</td>\n",
       "    </tr>\n",
       "    <tr>\n",
       "      <th>top</th>\n",
       "      <td>Graham, Mr. George Edward</td>\n",
       "      <td>male</td>\n",
       "      <td>CA. 2343</td>\n",
       "      <td>C23 C25 C27</td>\n",
       "      <td>S</td>\n",
       "    </tr>\n",
       "    <tr>\n",
       "      <th>freq</th>\n",
       "      <td>1</td>\n",
       "      <td>577</td>\n",
       "      <td>7</td>\n",
       "      <td>4</td>\n",
       "      <td>644</td>\n",
       "    </tr>\n",
       "  </tbody>\n",
       "</table>\n",
       "</div>"
      ],
      "text/plain": [
       "                             Name   Sex    Ticket        Cabin Embarked\n",
       "count                         891   891       891          204      889\n",
       "unique                        891     2       681          147        3\n",
       "top     Graham, Mr. George Edward  male  CA. 2343  C23 C25 C27        S\n",
       "freq                            1   577         7            4      644"
      ]
     },
     "execution_count": 8,
     "metadata": {},
     "output_type": "execute_result"
    }
   ],
   "source": [
    "#Investigate Categorical data\n",
    "titanic_data.describe(include=['O'])"
   ]
  },
  {
   "cell_type": "code",
   "execution_count": 9,
   "metadata": {},
   "outputs": [
    {
     "data": {
      "text/html": [
       "<div>\n",
       "<style>\n",
       "    .dataframe thead tr:only-child th {\n",
       "        text-align: right;\n",
       "    }\n",
       "\n",
       "    .dataframe thead th {\n",
       "        text-align: left;\n",
       "    }\n",
       "\n",
       "    .dataframe tbody tr th {\n",
       "        vertical-align: top;\n",
       "    }\n",
       "</style>\n",
       "<table border=\"1\" class=\"dataframe\">\n",
       "  <thead>\n",
       "    <tr style=\"text-align: right;\">\n",
       "      <th></th>\n",
       "      <th>PassengerId</th>\n",
       "      <th>Survived</th>\n",
       "      <th>Pclass</th>\n",
       "      <th>Age</th>\n",
       "      <th>SibSp</th>\n",
       "      <th>Parch</th>\n",
       "      <th>Fare</th>\n",
       "    </tr>\n",
       "  </thead>\n",
       "  <tbody>\n",
       "    <tr>\n",
       "      <th>count</th>\n",
       "      <td>891.000000</td>\n",
       "      <td>891.000000</td>\n",
       "      <td>891.000000</td>\n",
       "      <td>714.000000</td>\n",
       "      <td>891.000000</td>\n",
       "      <td>891.000000</td>\n",
       "      <td>891.000000</td>\n",
       "    </tr>\n",
       "    <tr>\n",
       "      <th>mean</th>\n",
       "      <td>446.000000</td>\n",
       "      <td>0.383838</td>\n",
       "      <td>2.308642</td>\n",
       "      <td>29.699118</td>\n",
       "      <td>0.523008</td>\n",
       "      <td>0.381594</td>\n",
       "      <td>32.204208</td>\n",
       "    </tr>\n",
       "    <tr>\n",
       "      <th>std</th>\n",
       "      <td>257.353842</td>\n",
       "      <td>0.486592</td>\n",
       "      <td>0.836071</td>\n",
       "      <td>14.526497</td>\n",
       "      <td>1.102743</td>\n",
       "      <td>0.806057</td>\n",
       "      <td>49.693429</td>\n",
       "    </tr>\n",
       "    <tr>\n",
       "      <th>min</th>\n",
       "      <td>1.000000</td>\n",
       "      <td>0.000000</td>\n",
       "      <td>1.000000</td>\n",
       "      <td>0.420000</td>\n",
       "      <td>0.000000</td>\n",
       "      <td>0.000000</td>\n",
       "      <td>0.000000</td>\n",
       "    </tr>\n",
       "    <tr>\n",
       "      <th>25%</th>\n",
       "      <td>223.500000</td>\n",
       "      <td>0.000000</td>\n",
       "      <td>2.000000</td>\n",
       "      <td>20.125000</td>\n",
       "      <td>0.000000</td>\n",
       "      <td>0.000000</td>\n",
       "      <td>7.910400</td>\n",
       "    </tr>\n",
       "    <tr>\n",
       "      <th>50%</th>\n",
       "      <td>446.000000</td>\n",
       "      <td>0.000000</td>\n",
       "      <td>3.000000</td>\n",
       "      <td>28.000000</td>\n",
       "      <td>0.000000</td>\n",
       "      <td>0.000000</td>\n",
       "      <td>14.454200</td>\n",
       "    </tr>\n",
       "    <tr>\n",
       "      <th>75%</th>\n",
       "      <td>668.500000</td>\n",
       "      <td>1.000000</td>\n",
       "      <td>3.000000</td>\n",
       "      <td>38.000000</td>\n",
       "      <td>1.000000</td>\n",
       "      <td>0.000000</td>\n",
       "      <td>31.000000</td>\n",
       "    </tr>\n",
       "    <tr>\n",
       "      <th>max</th>\n",
       "      <td>891.000000</td>\n",
       "      <td>1.000000</td>\n",
       "      <td>3.000000</td>\n",
       "      <td>80.000000</td>\n",
       "      <td>8.000000</td>\n",
       "      <td>6.000000</td>\n",
       "      <td>512.329200</td>\n",
       "    </tr>\n",
       "  </tbody>\n",
       "</table>\n",
       "</div>"
      ],
      "text/plain": [
       "       PassengerId    Survived      Pclass         Age       SibSp  \\\n",
       "count   891.000000  891.000000  891.000000  714.000000  891.000000   \n",
       "mean    446.000000    0.383838    2.308642   29.699118    0.523008   \n",
       "std     257.353842    0.486592    0.836071   14.526497    1.102743   \n",
       "min       1.000000    0.000000    1.000000    0.420000    0.000000   \n",
       "25%     223.500000    0.000000    2.000000   20.125000    0.000000   \n",
       "50%     446.000000    0.000000    3.000000   28.000000    0.000000   \n",
       "75%     668.500000    1.000000    3.000000   38.000000    1.000000   \n",
       "max     891.000000    1.000000    3.000000   80.000000    8.000000   \n",
       "\n",
       "            Parch        Fare  \n",
       "count  891.000000  891.000000  \n",
       "mean     0.381594   32.204208  \n",
       "std      0.806057   49.693429  \n",
       "min      0.000000    0.000000  \n",
       "25%      0.000000    7.910400  \n",
       "50%      0.000000   14.454200  \n",
       "75%      0.000000   31.000000  \n",
       "max      6.000000  512.329200  "
      ]
     },
     "execution_count": 9,
     "metadata": {},
     "output_type": "execute_result"
    }
   ],
   "source": [
    "#Investigate numerical data\n",
    "titanic_data.describe(include=None)"
   ]
  },
  {
   "cell_type": "markdown",
   "metadata": {},
   "source": [
    "#### Assumption \n",
    "As seen, the previous outputs test how representative is the chosen dataset. The total samples are 891 which represnts fairly 40% of the passengers number on Titanic (2,224)with some assumptions, as follows:\n",
    "\n",
    "- Survived is a categorical feature with values 0 or 1 with 38% of survivors.\n",
    "- Age entries are incomplete with total entries 714 that shows 20% of missing data.  \n",
    "- Names are unique among the dataset with no duplications.\n",
    "- Number of males exceeded the females with freq= 577 out of 891 that represents 65%. \n",
    "- Duplication is found on Tickets with 22% duplicated values.\n",
    "- Cabin values show a large number of missing values with 204 entries out of 891\n",
    "- Embarked have three possible value with high ratio of value \"S\" due to having 72% passengers from Southampton Port.\n",
    "\n",
    "As such, missing, duplicated and less important values will be droped or replaced as following:\n",
    "- Cabin feature with 22% entries only, which is the most missing value (NaN), will be dropped.\n",
    "- Few Embarked values are null (only 2) and will be replaced with the most occured value. \n",
    "- PassengerId and Fare are irrelative survival factors which will be dropped.\n",
    "- Ticket also will be dropped because its importance comes from defining the passegner travel class which can be  driven using the Pclass fearure. \n",
    "\n",
    "\n",
    "\n",
    "\n",
    "However, the missing values of \"Age\" feature wil be kept for now due to its strong correlation to survival for further analysis."
   ]
  },
  {
   "cell_type": "markdown",
   "metadata": {},
   "source": [
    "### *Data Cleanup*\n",
    "\n",
    "\n",
    "#### *- Removing duplicate rows*\n",
    "According to the following code, there are no duplicate rows which eleminates the need to this step.\n"
   ]
  },
  {
   "cell_type": "code",
   "execution_count": 10,
   "metadata": {},
   "outputs": [
    {
     "name": "stdout",
     "output_type": "stream",
     "text": [
      "Duplicate row(s) is/are 0\n"
     ]
    }
   ],
   "source": [
    "# Check the possibilty of duplicated rows\n",
    "print 'Duplicate row(s) is/are {}'.format(len(titanic_data[titanic_data.duplicated()]))\n"
   ]
  },
  {
   "cell_type": "markdown",
   "metadata": {},
   "source": [
    "\n",
    "#### * - Identifying and fixing incorrect/missing entries within the categorical features *"
   ]
  },
  {
   "cell_type": "code",
   "execution_count": 11,
   "metadata": {},
   "outputs": [
    {
     "data": {
      "text/plain": [
       "array(['S', 'C', 'Q', nan], dtype=object)"
      ]
     },
     "execution_count": 11,
     "metadata": {},
     "output_type": "execute_result"
    }
   ],
   "source": [
    "#Use function to check incorrect categorical entries\n",
    "def check_entries_ctg(sample_data,feature): \n",
    "    return sample_data[feature].unique() \n",
    "\n",
    "#Check \"Embarked\" entries\n",
    "check_entries_ctg(titanic_data,'Embarked')"
   ]
  },
  {
   "cell_type": "code",
   "execution_count": 12,
   "metadata": {},
   "outputs": [
    {
     "data": {
      "text/plain": [
       "array([3, 1, 2], dtype=int64)"
      ]
     },
     "execution_count": 12,
     "metadata": {},
     "output_type": "execute_result"
    }
   ],
   "source": [
    "#Check \"Pclass\" entries\n",
    "check_entries_ctg(titanic_data,'Pclass')"
   ]
  },
  {
   "cell_type": "code",
   "execution_count": 13,
   "metadata": {},
   "outputs": [
    {
     "data": {
      "text/plain": [
       "array([0, 1], dtype=int64)"
      ]
     },
     "execution_count": 13,
     "metadata": {},
     "output_type": "execute_result"
    }
   ],
   "source": [
    "#Check \"Survived\" entries\n",
    "check_entries_ctg(titanic_data,'Survived')"
   ]
  },
  {
   "cell_type": "code",
   "execution_count": 14,
   "metadata": {},
   "outputs": [
    {
     "data": {
      "text/plain": [
       "array(['male', 'female'], dtype=object)"
      ]
     },
     "execution_count": 14,
     "metadata": {},
     "output_type": "execute_result"
    }
   ],
   "source": [
    "#Check \"Sex\" entries\n",
    "check_entries_ctg(titanic_data, 'Sex')"
   ]
  },
  {
   "cell_type": "markdown",
   "metadata": {},
   "source": [
    "It can be seen that the categorical features of Pclass(ordinal), Survived,Sex and Embarked have no entries that out of its possible values. However, Embarked feature has only two NaN values that represnt the missing entries which confirm the previous decision of replacing them with the most occured value which is S, as follows: "
   ]
  },
  {
   "cell_type": "code",
   "execution_count": 15,
   "metadata": {},
   "outputs": [
    {
     "data": {
      "text/plain": [
       "array(['S', 'C', 'Q'], dtype=object)"
      ]
     },
     "execution_count": 15,
     "metadata": {},
     "output_type": "execute_result"
    }
   ],
   "source": [
    "#Remove NaN values of \"Embarked\" and assign the modified dataset to n_titanic_data\n",
    "sPort=titanic_data['Embarked'].mode()[0]\n",
    "n_titanic_data=titanic_data\n",
    "n_titanic_data['Embarked']= n_titanic_data['Embarked'].fillna(sPort)\n",
    "check_entries_ctg(n_titanic_data,'Embarked')"
   ]
  },
  {
   "cell_type": "code",
   "execution_count": 16,
   "metadata": {},
   "outputs": [
    {
     "data": {
      "text/html": [
       "<div>\n",
       "<style>\n",
       "    .dataframe thead tr:only-child th {\n",
       "        text-align: right;\n",
       "    }\n",
       "\n",
       "    .dataframe thead th {\n",
       "        text-align: left;\n",
       "    }\n",
       "\n",
       "    .dataframe tbody tr th {\n",
       "        vertical-align: top;\n",
       "    }\n",
       "</style>\n",
       "<table border=\"1\" class=\"dataframe\">\n",
       "  <thead>\n",
       "    <tr style=\"text-align: right;\">\n",
       "      <th></th>\n",
       "      <th>Survived</th>\n",
       "    </tr>\n",
       "    <tr>\n",
       "      <th>Embarked</th>\n",
       "      <th></th>\n",
       "    </tr>\n",
       "  </thead>\n",
       "  <tbody>\n",
       "    <tr>\n",
       "      <th>Q</th>\n",
       "      <td>77</td>\n",
       "    </tr>\n",
       "    <tr>\n",
       "      <th>C</th>\n",
       "      <td>168</td>\n",
       "    </tr>\n",
       "    <tr>\n",
       "      <th>S</th>\n",
       "      <td>646</td>\n",
       "    </tr>\n",
       "  </tbody>\n",
       "</table>\n",
       "</div>"
      ],
      "text/plain": [
       "          Survived\n",
       "Embarked          \n",
       "Q               77\n",
       "C              168\n",
       "S              646"
      ]
     },
     "execution_count": 16,
     "metadata": {},
     "output_type": "execute_result"
    }
   ],
   "source": [
    "#Group the outputs by \"Embarked\" for further check\n",
    "n_titanic_data[['Embarked', 'Survived']].groupby(['Embarked'], as_index=True)\\\n",
    ".count().sort_values(by='Survived', ascending=True)"
   ]
  },
  {
   "cell_type": "markdown",
   "metadata": {},
   "source": [
    "#### *-Identifying and fixing missing entries within the numerical features*\n",
    "\n",
    "\n",
    "For numerical features,which are Age, Fare, SibSp, Survived, PassengerId and Parch, there is no fixed possible values which eliminate the need to use check_entries_ctg to ensure data validation except for age which is distrbuted normally accroding to the Max and Min functions:\n"
   ]
  },
  {
   "cell_type": "code",
   "execution_count": 17,
   "metadata": {},
   "outputs": [
    {
     "data": {
      "text/plain": [
       "80.0"
      ]
     },
     "execution_count": 17,
     "metadata": {},
     "output_type": "execute_result"
    }
   ],
   "source": [
    "#Find the maximum value of \"Age\"\n",
    "n_titanic_data['Age'].max()"
   ]
  },
  {
   "cell_type": "code",
   "execution_count": 18,
   "metadata": {},
   "outputs": [
    {
     "data": {
      "text/plain": [
       "0.41999999999999998"
      ]
     },
     "execution_count": 18,
     "metadata": {},
     "output_type": "execute_result"
    }
   ],
   "source": [
    "#Find the minimum value of \"Age\"\n",
    "n_titanic_data['Age'].min()"
   ]
  },
  {
   "cell_type": "markdown",
   "metadata": {},
   "source": [
    "Therefore, it shows a normal distribution of Age that range from (.49) which represent an estimated age below one year and end up with 80 which means eliminating any outliers possibilty.\n",
    "Thus, the concentration will be given to the case of missing values only, as follows:"
   ]
  },
  {
   "cell_type": "code",
   "execution_count": 19,
   "metadata": {},
   "outputs": [
    {
     "data": {
      "text/plain": [
       "PassengerId      0\n",
       "Survived         0\n",
       "Pclass           0\n",
       "Name             0\n",
       "Sex              0\n",
       "Age            177\n",
       "SibSp            0\n",
       "Parch            0\n",
       "Ticket           0\n",
       "Fare             0\n",
       "Cabin          687\n",
       "Embarked         0\n",
       "dtype: int64"
      ]
     },
     "execution_count": 19,
     "metadata": {},
     "output_type": "execute_result"
    }
   ],
   "source": [
    "#Find the missing values of the dataset\n",
    "n_titanic_data.isnull().sum()\n"
   ]
  },
  {
   "cell_type": "markdown",
   "metadata": {},
   "source": [
    "Obviously, the missing values occur with Age reasonably and Cabin massively. This supports the decision of removing Cabin feature. No cleaning action will be perofromed on \"Age\" feature due to its importance as a survival factor. More investigation will be performed, as follows:   "
   ]
  },
  {
   "cell_type": "code",
   "execution_count": 20,
   "metadata": {},
   "outputs": [
    {
     "data": {
      "text/html": [
       "<div>\n",
       "<style>\n",
       "    .dataframe thead tr:only-child th {\n",
       "        text-align: right;\n",
       "    }\n",
       "\n",
       "    .dataframe thead th {\n",
       "        text-align: left;\n",
       "    }\n",
       "\n",
       "    .dataframe tbody tr th {\n",
       "        vertical-align: top;\n",
       "    }\n",
       "</style>\n",
       "<table border=\"1\" class=\"dataframe\">\n",
       "  <thead>\n",
       "    <tr style=\"text-align: right;\">\n",
       "      <th></th>\n",
       "      <th>PassengerId</th>\n",
       "      <th>Survived</th>\n",
       "      <th>Pclass</th>\n",
       "      <th>Name</th>\n",
       "      <th>Sex</th>\n",
       "      <th>Age</th>\n",
       "      <th>SibSp</th>\n",
       "      <th>Parch</th>\n",
       "      <th>Ticket</th>\n",
       "      <th>Fare</th>\n",
       "      <th>Cabin</th>\n",
       "      <th>Embarked</th>\n",
       "    </tr>\n",
       "  </thead>\n",
       "  <tbody>\n",
       "    <tr>\n",
       "      <th>859</th>\n",
       "      <td>860</td>\n",
       "      <td>0</td>\n",
       "      <td>3</td>\n",
       "      <td>Razi, Mr. Raihed</td>\n",
       "      <td>male</td>\n",
       "      <td>NaN</td>\n",
       "      <td>0</td>\n",
       "      <td>0</td>\n",
       "      <td>2629</td>\n",
       "      <td>7.2292</td>\n",
       "      <td>NaN</td>\n",
       "      <td>C</td>\n",
       "    </tr>\n",
       "    <tr>\n",
       "      <th>863</th>\n",
       "      <td>864</td>\n",
       "      <td>0</td>\n",
       "      <td>3</td>\n",
       "      <td>Sage, Miss. Dorothy Edith \"Dolly\"</td>\n",
       "      <td>female</td>\n",
       "      <td>NaN</td>\n",
       "      <td>8</td>\n",
       "      <td>2</td>\n",
       "      <td>CA. 2343</td>\n",
       "      <td>69.5500</td>\n",
       "      <td>NaN</td>\n",
       "      <td>S</td>\n",
       "    </tr>\n",
       "    <tr>\n",
       "      <th>868</th>\n",
       "      <td>869</td>\n",
       "      <td>0</td>\n",
       "      <td>3</td>\n",
       "      <td>van Melkebeke, Mr. Philemon</td>\n",
       "      <td>male</td>\n",
       "      <td>NaN</td>\n",
       "      <td>0</td>\n",
       "      <td>0</td>\n",
       "      <td>345777</td>\n",
       "      <td>9.5000</td>\n",
       "      <td>NaN</td>\n",
       "      <td>S</td>\n",
       "    </tr>\n",
       "    <tr>\n",
       "      <th>878</th>\n",
       "      <td>879</td>\n",
       "      <td>0</td>\n",
       "      <td>3</td>\n",
       "      <td>Laleff, Mr. Kristo</td>\n",
       "      <td>male</td>\n",
       "      <td>NaN</td>\n",
       "      <td>0</td>\n",
       "      <td>0</td>\n",
       "      <td>349217</td>\n",
       "      <td>7.8958</td>\n",
       "      <td>NaN</td>\n",
       "      <td>S</td>\n",
       "    </tr>\n",
       "    <tr>\n",
       "      <th>888</th>\n",
       "      <td>889</td>\n",
       "      <td>0</td>\n",
       "      <td>3</td>\n",
       "      <td>Johnston, Miss. Catherine Helen \"Carrie\"</td>\n",
       "      <td>female</td>\n",
       "      <td>NaN</td>\n",
       "      <td>1</td>\n",
       "      <td>2</td>\n",
       "      <td>W./C. 6607</td>\n",
       "      <td>23.4500</td>\n",
       "      <td>NaN</td>\n",
       "      <td>S</td>\n",
       "    </tr>\n",
       "  </tbody>\n",
       "</table>\n",
       "</div>"
      ],
      "text/plain": [
       "     PassengerId  Survived  Pclass                                      Name  \\\n",
       "859          860         0       3                          Razi, Mr. Raihed   \n",
       "863          864         0       3         Sage, Miss. Dorothy Edith \"Dolly\"   \n",
       "868          869         0       3               van Melkebeke, Mr. Philemon   \n",
       "878          879         0       3                        Laleff, Mr. Kristo   \n",
       "888          889         0       3  Johnston, Miss. Catherine Helen \"Carrie\"   \n",
       "\n",
       "        Sex  Age  SibSp  Parch      Ticket     Fare Cabin Embarked  \n",
       "859    male  NaN      0      0        2629   7.2292   NaN        C  \n",
       "863  female  NaN      8      2    CA. 2343  69.5500   NaN        S  \n",
       "868    male  NaN      0      0      345777   9.5000   NaN        S  \n",
       "878    male  NaN      0      0      349217   7.8958   NaN        S  \n",
       "888  female  NaN      1      2  W./C. 6607  23.4500   NaN        S  "
      ]
     },
     "execution_count": 20,
     "metadata": {},
     "output_type": "execute_result"
    }
   ],
   "source": [
    "#Collect the null values of \"Age\"\n",
    "z_age=n_titanic_data['Age'].isnull() \n",
    "n_titanic_data[z_age].tail()\n"
   ]
  },
  {
   "cell_type": "markdown",
   "metadata": {},
   "source": [
    "We can see the \"NaN\" values of \"Age\" representing its missing entries with different associated gender values. Examining this fact might help in the decision on the \"Age\" issue:"
   ]
  },
  {
   "cell_type": "code",
   "execution_count": 21,
   "metadata": {},
   "outputs": [
    {
     "name": "stdout",
     "output_type": "stream",
     "text": [
      "The missing values of males are 124 and females are 53 \n"
     ]
    }
   ],
   "source": [
    "#Investigate the null value of \"Age\" with regard to \"Sex\"\n",
    "z_age_male = n_titanic_data[z_age]['Sex'] == 'male'\n",
    "z_age_female = n_titanic_data[z_age]['Sex'] == 'female'\n",
    "\n",
    "\n",
    "#Display the results\n",
    "print 'The missing values of males are {} and females are {} '.format(\n",
    "z_age_male.sum(),z_age_female.sum())"
   ]
  },
  {
   "cell_type": "markdown",
   "metadata": {},
   "source": [
    "#### -* Dropping unnecessary features*\n",
    "\n",
    "\n",
    "Based on the previous assumption, the following features will be dropped:"
   ]
  },
  {
   "cell_type": "code",
   "execution_count": 22,
   "metadata": {},
   "outputs": [
    {
     "data": {
      "text/html": [
       "<div>\n",
       "<style>\n",
       "    .dataframe thead tr:only-child th {\n",
       "        text-align: right;\n",
       "    }\n",
       "\n",
       "    .dataframe thead th {\n",
       "        text-align: left;\n",
       "    }\n",
       "\n",
       "    .dataframe tbody tr th {\n",
       "        vertical-align: top;\n",
       "    }\n",
       "</style>\n",
       "<table border=\"1\" class=\"dataframe\">\n",
       "  <thead>\n",
       "    <tr style=\"text-align: right;\">\n",
       "      <th></th>\n",
       "      <th>Survived</th>\n",
       "      <th>Pclass</th>\n",
       "      <th>Sex</th>\n",
       "      <th>Age</th>\n",
       "      <th>SibSp</th>\n",
       "      <th>Parch</th>\n",
       "    </tr>\n",
       "  </thead>\n",
       "  <tbody>\n",
       "    <tr>\n",
       "      <th>0</th>\n",
       "      <td>0</td>\n",
       "      <td>3</td>\n",
       "      <td>male</td>\n",
       "      <td>22.0</td>\n",
       "      <td>1</td>\n",
       "      <td>0</td>\n",
       "    </tr>\n",
       "    <tr>\n",
       "      <th>1</th>\n",
       "      <td>1</td>\n",
       "      <td>1</td>\n",
       "      <td>female</td>\n",
       "      <td>38.0</td>\n",
       "      <td>1</td>\n",
       "      <td>0</td>\n",
       "    </tr>\n",
       "    <tr>\n",
       "      <th>2</th>\n",
       "      <td>1</td>\n",
       "      <td>3</td>\n",
       "      <td>female</td>\n",
       "      <td>26.0</td>\n",
       "      <td>0</td>\n",
       "      <td>0</td>\n",
       "    </tr>\n",
       "    <tr>\n",
       "      <th>3</th>\n",
       "      <td>1</td>\n",
       "      <td>1</td>\n",
       "      <td>female</td>\n",
       "      <td>35.0</td>\n",
       "      <td>1</td>\n",
       "      <td>0</td>\n",
       "    </tr>\n",
       "    <tr>\n",
       "      <th>4</th>\n",
       "      <td>0</td>\n",
       "      <td>3</td>\n",
       "      <td>male</td>\n",
       "      <td>35.0</td>\n",
       "      <td>0</td>\n",
       "      <td>0</td>\n",
       "    </tr>\n",
       "  </tbody>\n",
       "</table>\n",
       "</div>"
      ],
      "text/plain": [
       "   Survived  Pclass     Sex   Age  SibSp  Parch\n",
       "0         0       3    male  22.0      1      0\n",
       "1         1       1  female  38.0      1      0\n",
       "2         1       3  female  26.0      0      0\n",
       "3         1       1  female  35.0      1      0\n",
       "4         0       3    male  35.0      0      0"
      ]
     },
     "execution_count": 22,
     "metadata": {},
     "output_type": "execute_result"
    }
   ],
   "source": [
    "#Remove 'PassengerId','Ticket','Cabin','Fare', 'Name' and 'Embarked' columns\n",
    "n_titanic_data= n_titanic_data.drop(['PassengerId','Ticket','Cabin','Fare', 'Name', 'Embarked'], axis=1)\n",
    "n_titanic_data.head()"
   ]
  },
  {
   "cell_type": "markdown",
   "metadata": {},
   "source": [
    "## *Data Exploration*\n",
    "\n",
    "\n",
    "### *Questions, Analysis and Visualisations*\n",
    "\n",
    "\n",
    "#### Question 1\n",
    "- Did the gender determine the chances of survival ?\n",
    "  - survival rate of males and females\n"
   ]
  },
  {
   "cell_type": "code",
   "execution_count": 23,
   "metadata": {},
   "outputs": [
    {
     "name": "stdout",
     "output_type": "stream",
     "text": [
      "Survived 342 out of total 891\n",
      "Average probability of survival: 38.38 %\n"
     ]
    }
   ],
   "source": [
    "#Display Results\n",
    "print \"Survived {} out of total {}\".format(n_titanic_data[\"Survived\"].sum(), n_titanic_data[\"Survived\"].count())\n",
    "\n",
    "#Review the survival rate generally\n",
    "survival_mean= n_titanic_data[\"Survived\"].mean()\n",
    "\n",
    "#Display Results\n",
    "print \"Average probability of survival: {} %\".format(round(survival_mean*100, 2))"
   ]
  },
  {
   "cell_type": "code",
   "execution_count": 24,
   "metadata": {},
   "outputs": [
    {
     "name": "stdout",
     "output_type": "stream",
     "text": [
      "577\n",
      "314\n"
     ]
    }
   ],
   "source": [
    "#Review and display the total number of male and female\n",
    "\n",
    "print len(n_titanic_data[n_titanic_data['Sex'] == 'male'])\n",
    "print len(n_titanic_data[n_titanic_data['Sex'] == 'female'])"
   ]
  },
  {
   "cell_type": "code",
   "execution_count": 25,
   "metadata": {},
   "outputs": [
    {
     "data": {
      "text/plain": [
       "<matplotlib.text.Text at 0xc221cc0>"
      ]
     },
     "execution_count": 25,
     "metadata": {},
     "output_type": "execute_result"
    },
    {
     "data": {
      "image/png": "[encoded data removed]",
      "text/plain": [
       "<matplotlib.figure.Figure at 0xc007390>"
      ]
     },
     "metadata": {},
     "output_type": "display_data"
    }
   ],
   "source": [
    "#Graph of Count of Passengers by \"Sex\" feature\n",
    "figure1= sns.factorplot('Sex', data=n_titanic_data, aspect=0.9, kind='count')\n",
    "figure1.despine(left=True)\n",
    "figure1.set_ylabels(\"Count of Passengers\")\n",
    "sns.plt.title(\"Count of Passengers by Sex\")"
   ]
  },
  {
   "cell_type": "code",
   "execution_count": 26,
   "metadata": {},
   "outputs": [
    {
     "name": "stdout",
     "output_type": "stream",
     "text": [
      "male survival rate: 18.89%\n",
      "female survival rate: 74.2%\n",
      "male survival number: 109\n",
      "female survival number: 233\n"
     ]
    },
    {
     "data": {
      "image/png": "[encoded data removed]",
      "text/plain": [
       "<matplotlib.figure.Figure at 0xc336eb8>"
      ]
     },
     "metadata": {},
     "output_type": "display_data"
    }
   ],
   "source": [
    "#Define survival_number function that take two parameters:(data= dataset, sex= male or female) \\\n",
    "#and return the value of sex and number of suvival by sex\n",
    "\n",
    "def survival_number(data,sex):\n",
    "\n",
    "    survived_by_sex =data.groupby(['Survived','Sex']).size()[1,sex]\n",
    "    \n",
    "    return '{} survival number: {}'.format(sex,survived_by_sex)\n",
    "\n",
    "#Define survival_rate function that take two parameters:(data= dataset, sex= male or female) \\\n",
    "#and return the value of sex and suvival rate by sex\n",
    "\n",
    "def survival_rate(data,sex):\n",
    "    grouped_by_total = data.groupby(['Sex']).size()[sex].astype('float')\n",
    "    survived_by_sex =data.groupby(['Survived','Sex']).size()[1,sex]\n",
    "    survival_rate = ((survived_by_sex / grouped_by_total) * 100).round(2)\n",
    "    \n",
    "    return '{} survival rate: {}%'.format(sex,survival_rate)\n",
    "\n",
    "#Displau results\n",
    "print survival_rate(n_titanic_data,'male')\n",
    "print survival_rate(n_titanic_data,'female')\n",
    "print survival_number (n_titanic_data,\"male\")\n",
    "print survival_number (n_titanic_data,\"female\")\n",
    "\n",
    "#Graph of \"Survived\" by \"Sex\"\n",
    "fig1 = sns.factorplot('Survived', col='Sex', data=n_titanic_data, aspect=0.9, kind='count')\n",
    "fig1.set_axis_labels(\"Passengers\",\"Total\")\n",
    "fig1.set_xticklabels([\"Died\", \"Survived\"])\n",
    "fig1.set_titles(\"{col_name}\")\n",
    "fig1.fig.suptitle(\"Count of Survived by Sex\", size=14)\n",
    "fig1.fig.subplots_adjust(top=.9)"
   ]
  },
  {
   "cell_type": "markdown",
   "metadata": {},
   "source": [
    "According to the above figures, the results shows 231 female survivors out of 312 compared to 109 male survivors only out of 577 with the following percentige:\n",
    "- Female Survivors: 74.04%\n",
    "- Male Survivors: 18.89%\n",
    "\n",
    "As expected, females passengers had a high chance of surviving due to the fact of having the priority to be in lifeboats."
   ]
  },
  {
   "cell_type": "markdown",
   "metadata": {},
   "source": [
    "#### Question 2\n",
    "- Did the age factor affect the survival chances of passengers and crews ?\n",
    "  - The survival rate of children( < 18) and adults.\n",
    "  \n",
    "It has been mentioned previously the case of missing value within \"Age\" feature which will be handled in this analysis:\n"
   ]
  },
  {
   "cell_type": "code",
   "execution_count": 27,
   "metadata": {},
   "outputs": [
    {
     "name": "stdout",
     "output_type": "stream",
     "text": [
      "The total missing values are 177:\n",
      "The missing values of males are 124 and females are 53 \n",
      "The total count of Ages after removing missing values is: 714\n",
      "The age of oldest passenger is: 80.0\n",
      "The age of youngest passenger is: 0.42\n",
      "The average of passengers ages is: 30.0\n"
     ]
    },
    {
     "data": {
      "text/plain": [
       "<matplotlib.text.Text at 0xc702dd8>"
      ]
     },
     "execution_count": 27,
     "metadata": {},
     "output_type": "execute_result"
    },
    {
     "data": {
      "image/png": "[encoded data removed]",
      "text/plain": [
       "<matplotlib.figure.Figure at 0xc336908>"
      ]
     },
     "metadata": {},
     "output_type": "display_data"
    }
   ],
   "source": [
    "#Determine the missing values of \"Age\" generally and with regard to female and male entries:\n",
    "print \"The total missing values are {}:\\nThe missing values of males are {} and females are {} \".format(z_age.sum(),z_age_male.sum(),z_age_female.sum())\n",
    "\n",
    "#Remove the missing values to avoid any effect on the summary statistics such as: mean.\n",
    "titanic_data_age= n_titanic_data.dropna()\n",
    "print \"The total count of Ages after removing missing values is: {}\".format(titanic_data_age['Age'].count())\n",
    "\n",
    "#Find average, max and min of all passenger ages\n",
    "print \"The age of oldest passenger is: {}\".format(titanic_data_age[\"Age\"].max())\n",
    "print \"The age of youngest passenger is: {}\".format(titanic_data_age[\"Age\"].min())\n",
    "print \"The average of passengers ages is: {}\".format(round(titanic_data_age[\"Age\"].mean(),0))\n",
    "\n",
    "#Graph of \"Age\" feature distribution - 1\n",
    "fig4=titanic_data_age['Age'].plot.hist(title=\"Passenger Age Distribution\")\n",
    "fig4.set(xticks=np.arange(0,100,10))\n",
    "fig4.set_xlabel(\"Age in Years\")\n",
    "fig4.set_ylabel(\"Count\")\n",
    "\n"
   ]
  },
  {
   "cell_type": "code",
   "execution_count": 28,
   "metadata": {},
   "outputs": [
    {
     "data": {
      "text/plain": [
       "[<matplotlib.text.Text at 0xd6f5518>]"
      ]
     },
     "execution_count": 28,
     "metadata": {},
     "output_type": "execute_result"
    },
    {
     "data": {
      "image/png": "[encoded data removed]",
      "text/plain": [
       "<matplotlib.figure.Figure at 0xc007b38>"
      ]
     },
     "metadata": {},
     "output_type": "display_data"
    }
   ],
   "source": [
    "#Graph of \"Age\" feature distribution - 2\n",
    "fig5=sns.violinplot(data=titanic_data_age, y= 'Age', cut=0, ) \n",
    "sns.plt.suptitle('Passenger Age Distribution')\n",
    "fig5.set_xticklabels([\"count\"])"
   ]
  },
  {
   "cell_type": "markdown",
   "metadata": {},
   "source": [
    "Obviously, the largest age distribution among passengers range from 10 to 38 years old with an average of 30 years. Thus, we will dig deeper by trying to find the possiblity of a correlation between the Age and Survivability.\n"
   ]
  },
  {
   "cell_type": "code",
   "execution_count": 29,
   "metadata": {},
   "outputs": [
    {
     "name": "stdout",
     "output_type": "stream",
     "text": [
      "The total number of Survivors: 290\n",
      "The total number of Victims: 424\n",
      "The mean age of Survivors: 28.34\n",
      "The mean age of Victims: 30.63\n"
     ]
    }
   ],
   "source": [
    "#Find total number of survivors and victims\n",
    "survivors_age_cleaned = titanic_data_age.groupby(['Survived']).size()[1]\n",
    "victims_age_cleaned = titanic_data_age.groupby(['Survived']).size()[0]\n",
    "\n",
    "#Find the mean of survivors and victims ages\n",
    "mean_age_survivors = round(titanic_data_age[titanic_data_age['Survived'] == True]['Age'].mean(),2)\n",
    "mean_age_victims = round(titanic_data_age[titanic_data_age['Survived'] == False]['Age'].mean(),2)\n",
    "\n",
    "#Display results\n",
    "print \"The total number of Survivors: {}\".format(survivors_age_cleaned)\n",
    "print \"The total number of Victims: {}\".format(victims_age_cleaned)\n",
    "print \"The mean age of Survivors: {}\".format(mean_age_survivors)\n",
    "print \"The mean age of Victims: {}\".format(mean_age_victims)\n"
   ]
  },
  {
   "cell_type": "code",
   "execution_count": 30,
   "metadata": {},
   "outputs": [
    {
     "data": {
      "text/plain": [
       "<matplotlib.text.Text at 0xd926ef0>"
      ]
     },
     "execution_count": 30,
     "metadata": {},
     "output_type": "execute_result"
    },
    {
     "data": {
      "image/png": "[encoded data removed]",
      "text/plain": [
       "<matplotlib.figure.Figure at 0xc323fd0>"
      ]
     },
     "metadata": {},
     "output_type": "display_data"
    }
   ],
   "source": [
    "#Graph of \"Survived\" by \"Age\"\n",
    "fig6=sns.violinplot(x='Survived', y='Age', data=titanic_data_age, cut=0)\n",
    "fig6.set_xticklabels([\"Died\", \"Survived\"])\n",
    "sns.plt.suptitle('Survivability by Age')"
   ]
  },
  {
   "cell_type": "markdown",
   "metadata": {},
   "source": [
    "Based on the graphs and results, it can be seen that the mean for both survivors and victims groups nearly the same which weaken the \"Age\" as a survival factor.\n",
    "However, there is no information about the passengers ages in terms of the type of \"child\" and \"adults\". Therefore,there is a need to classify the data more into childhood and adulthood groups using the following condition:\n",
    "\n",
    "    - Child: a passenger < 18.\n",
    "    - Woman: a female passenger >= 18 years old.\n",
    "    - Man: a male passenger >= 18 years old. \n",
    "    "
   ]
  },
  {
   "cell_type": "code",
   "execution_count": 40,
   "metadata": {},
   "outputs": [
    {
     "data": {
      "text/html": [
       "<div>\n",
       "<style>\n",
       "    .dataframe thead tr:only-child th {\n",
       "        text-align: right;\n",
       "    }\n",
       "\n",
       "    .dataframe thead th {\n",
       "        text-align: left;\n",
       "    }\n",
       "\n",
       "    .dataframe tbody tr th {\n",
       "        vertical-align: top;\n",
       "    }\n",
       "</style>\n",
       "<table border=\"1\" class=\"dataframe\">\n",
       "  <thead>\n",
       "    <tr style=\"text-align: right;\">\n",
       "      <th></th>\n",
       "      <th>Children</th>\n",
       "      <th>Men</th>\n",
       "      <th>Women</th>\n",
       "    </tr>\n",
       "  </thead>\n",
       "  <tbody>\n",
       "    <tr>\n",
       "      <th>Total number</th>\n",
       "      <td>113</td>\n",
       "      <td>395</td>\n",
       "      <td>206</td>\n",
       "    </tr>\n",
       "  </tbody>\n",
       "</table>\n",
       "</div>"
      ],
      "text/plain": [
       "              Children  Men  Women\n",
       "Total number       113  395    206"
      ]
     },
     "execution_count": 40,
     "metadata": {},
     "output_type": "execute_result"
    }
   ],
   "source": [
    "#Create a new feature named \"Status\" to show the difference types of passengers:child, women and men\n",
    "titanic_data_age.loc[(titanic_data_age['Age'] < 18),'Status'] = 'Child'\n",
    "\n",
    "\n",
    "titanic_data_age.loc[( (titanic_data_age['Age'] >= 18)& \\\n",
    "                      (titanic_data_age['Sex'] == 'female')),'Status'] = 'Woman'\n",
    "\n",
    "titanic_data_age.loc[( (titanic_data_age['Age'] >= 18)& \\\n",
    "                      (titanic_data_age['Sex'] == 'male')),'Status'] = 'Man'\n",
    "\n",
    "#Count the total number of each type for each status (survived and not survived)\n",
    "child_data=pd.DataFrame(titanic_data_age[titanic_data_age['Status'] == 'Child'])\n",
    "women_data=pd.DataFrame(titanic_data_age[titanic_data_age['Status'] == 'Woman'])\n",
    "men_data=pd.DataFrame(titanic_data_age[titanic_data_age['Status'] == 'Man'])\n",
    "\n",
    "pd.DataFrame({\"Children\": {\"Total number\": len(child_data)},\"Women\": {\"Total number\": len(women_data)},\\\n",
    "              \"Men\": {\"Total number\": len(men_data)}})\n"
   ]
  },
  {
   "cell_type": "code",
   "execution_count": 41,
   "metadata": {},
   "outputs": [
    {
     "name": "stdout",
     "output_type": "stream",
     "text": [
      "The total number of Survived Child: 61\n",
      "The total number of Survived Women: 159\n",
      "The total number of Survived Men: 70\n"
     ]
    },
    {
     "data": {
      "image/png": "[encoded data removed]",
      "text/plain": [
       "<matplotlib.figure.Figure at 0xdab8cc0>"
      ]
     },
     "metadata": {},
     "output_type": "display_data"
    }
   ],
   "source": [
    "#Display results\n",
    "print \"The total number of Survived Child: {}\".format(len(child_data[child_data['Survived'] == True]))\n",
    "print \"The total number of Survived Women: {}\".format(len(women_data[women_data['Survived'] == True]))\n",
    "print \"The total number of Survived Men: {}\".format(len(men_data[men_data['Survived'] == True]))\n",
    "\n",
    "#Graph of \"Survived\" by \"Status\" of child, men and women\n",
    "fig7= sns.factorplot(x='Survived', col='Status', data=titanic_data_age, kind='count', size=6, aspect=.9)\n",
    "fig7.set_axis_labels('', 'Count')\n",
    "fig7.set_xticklabels(['Died', 'Survived'])\n",
    "fig7.fig.suptitle(\"Count of Survived by Status\", size=16)\n",
    "fig7.fig.subplots_adjust(top=.9)\n"
   ]
  },
  {
   "cell_type": "markdown",
   "metadata": {},
   "source": [
    "The results and graphs above support the importance of pre-mentioned \"Sex\" factor in showing high number of victims in the male side compared to female side. Additionally, It also supports the code of \"women and children first\" which possibly increase the number of survived people in case of women and children than men. However, the number of children who survived or died are quite close to each other. In addition, there is another point need to be considered in terms of defining the range of childhood ages which differ in the 1900's with what we define it now. This argument might affect the results and its related values. To sum up, we can see that the female have high chance of surviving followed by children.\n"
   ]
  },
  {
   "cell_type": "markdown",
   "metadata": {},
   "source": [
    "#### **Question3**\n",
    "- Did socio-economic status affect survival rate taking into consideration the Status feature?"
   ]
  },
  {
   "cell_type": "code",
   "execution_count": 42,
   "metadata": {},
   "outputs": [
    {
     "name": "stdout",
     "output_type": "stream",
     "text": [
      "Pclass  Survived  Status\n",
      "1       0         Child       1\n",
      "                  Man        61\n",
      "                  Woman       2\n",
      "        1         Child      11\n",
      "                  Man        36\n",
      "                  Woman      75\n",
      "2       0         Child       2\n",
      "                  Man        82\n",
      "                  Woman       6\n",
      "        1         Child      21\n",
      "                  Man         6\n",
      "                  Woman      56\n",
      "3       0         Child      49\n",
      "                  Man       182\n",
      "                  Woman      39\n",
      "        1         Child      29\n",
      "                  Man        28\n",
      "                  Woman      28\n",
      "dtype: int64\n"
     ]
    }
   ],
   "source": [
    "#Define the number of survivals grouped by Pclass and status\n",
    "Pclass_survived_size = titanic_data_age.groupby(['Pclass','Survived','Status']).size()\n",
    "\n",
    "#Display results\n",
    "print Pclass_survived_size\n",
    "\n"
   ]
  },
  {
   "cell_type": "markdown",
   "metadata": {
    "collapsed": true
   },
   "source": [
    "According to the previous analysis , the numbers of survival in Class 1 and 2 are quite higher than the others from Class 3 which strengthen considering \"Pclass\" feature as a primary factor in the survival rate of the Titanic passengers.\n",
    "This assumption will get more clear by the following graph that shows the survival rate of each class for each passenger's status. "
   ]
  },
  {
   "cell_type": "code",
   "execution_count": 43,
   "metadata": {},
   "outputs": [
    {
     "name": "stdout",
     "output_type": "stream",
     "text": [
      "Class1 / Child survival rate: 91.67% \n",
      "\n",
      "Class2 / Child survival rate: 91.3% \n",
      "\n",
      "Class3 / Child survival rate: 37.18% \n",
      "\n",
      "Class1 / Man survival rate: 37.11% \n",
      "\n",
      "Class2 / Man survival rate: 6.82% \n",
      "\n",
      "Class3 / Man survival rate: 13.33% \n",
      "\n",
      "Class1 / Woman survival rate: 97.4% \n",
      "\n",
      "Class2 / Woman survival rate: 90.32% \n",
      "\n",
      "Class3 / Woman survival rate: 41.79% \n",
      "\n"
     ]
    }
   ],
   "source": [
    "#Define survival_rate_by_status_class function that take three parameters:(data= dataset, pclass= 1, 2 or 3, \n",
    "# status= Child, Man or Woman)and return the class type, the status value and the survival rate by them\n",
    "def survival_rate_by_status_class(data, pclass, status):\n",
    "    total_pclass_status= data.groupby(['Pclass', 'Status']).size()[pclass,status].astype('float')\n",
    "    survived_pclass_status = \\\n",
    "        data.groupby(['Pclass','Survived','Status']).size()[pclass,1,status].astype('float')\n",
    "    survival_rate = ((survived_pclass_status / total_pclass_status) * 100).round(2)\n",
    "    \n",
    "    return 'Class{} / {} survival rate: {}% \\n'.format(pclass,status,survival_rate)\n",
    "\n",
    "\n",
    "#Display results\n",
    "print survival_rate_by_status_class(child_data,1,'Child')\n",
    "print survival_rate_by_status_class(child_data,2,'Child')\n",
    "print survival_rate_by_status_class(child_data,3,'Child')\n",
    "print survival_rate_by_status_class(men_data,1,'Man')\n",
    "print survival_rate_by_status_class(men_data,2,'Man')\n",
    "print survival_rate_by_status_class(men_data,3,'Man')\n",
    "print survival_rate_by_status_class(women_data,1,'Woman')\n",
    "print survival_rate_by_status_class(women_data,2,'Woman')\n",
    "print survival_rate_by_status_class(women_data,3,'Woman')"
   ]
  },
  {
   "cell_type": "code",
   "execution_count": 44,
   "metadata": {},
   "outputs": [
    {
     "data": {
      "text/plain": [
       "<matplotlib.text.Text at 0xdac5fd0>"
      ]
     },
     "execution_count": 44,
     "metadata": {},
     "output_type": "execute_result"
    },
    {
     "data": {
      "image/png": "[encoded data removed]",
      "text/plain": [
       "<matplotlib.figure.Figure at 0xd8f82b0>"
      ]
     },
     "metadata": {},
     "output_type": "display_data"
    }
   ],
   "source": [
    "#Graph of \"Survived\" grouped by status and Pclass\n",
    "fig8 = sns.barplot(x=\"Status\", y=\"Survived\", hue=\"Pclass\", data=titanic_data_age,saturation=.9)\n",
    "sns.plt.suptitle(\"Count of Survived by Status and Passenger Class\", size=14)"
   ]
  },
  {
   "cell_type": "markdown",
   "metadata": {},
   "source": [
    "Based on the the sample provided, the above plot confirms that women and children had a quite high survival rate than the male in the Titanic ship. By looking closer to each passennger class, we can see that class 1 had the highest rate among all passengers followd by class 2 (except for Men which is the lowest) and ended up with class 3 with the lowest chance of surviving. Additionally, the men survived less than half the rate of women and children."
   ]
  },
  {
   "cell_type": "code",
   "execution_count": 66,
   "metadata": {},
   "outputs": [
    {
     "name": "stdout",
     "output_type": "stream",
     "text": [
      "[[122  64]\n",
      " [ 83  90]\n",
      " [ 85 270]]\n"
     ]
    },
    {
     "data": {
      "text/plain": [
       "(92.901417211433213,\n",
       " 6.7098617497569091e-21,\n",
       " 2L,\n",
       " array([[  75.54621849,  110.45378151],\n",
       "        [  70.26610644,  102.73389356],\n",
       "        [ 144.18767507,  210.81232493]]))"
      ]
     },
     "execution_count": 66,
     "metadata": {},
     "output_type": "execute_result"
    }
   ],
   "source": [
    "#Categorise the dataset into: data of survived and victims with regard tp Passenger classes (Pclass 1,\n",
    "# Pclass 2 and Pclass 3)\n",
    "\n",
    "class1_data= titanic_data_age[titanic_data_age.Pclass == 1]\n",
    "class2_data= titanic_data_age[titanic_data_age.Pclass == 2]\n",
    "class3_data= titanic_data_age[titanic_data_age.Pclass == 3]\n",
    "\n",
    "class1_data[class1_data.Survived == 1].count()['Pclass']\n",
    "class2_Survived = class2_data[class2_data.Survived == 1].count()['Pclass']\n",
    "class3_Survived = class3_data[class3_data.Survived == 1].count()['Pclass']\n",
    "\n",
    "class1_victims= class1_data[class1_data.Survived == 0].count()['Pclass']\n",
    "class2_victims= class2_data[class2_data.Survived == 0].count()['Pclass']\n",
    "class3_victims= class3_data[class3_data.Survived == 0].count()['Pclass']\n",
    "\n",
    "#Collect data using NumPy array\n",
    "pclass_survival_numbers = np.array([[class1_Survived, class1_victims],[class2_Survived, class2_victims],\\\n",
    "                                 [class3_Survived,class3_victims ]])\n",
    "\n",
    "\n",
    "#Display Results\n",
    "print(pclass_survival_numbers)\n",
    "\n",
    "#Chi-Square Test of Survived and Pclass factors independence\n",
    "sp.stats.chi2_contingency(pclass_survival_numbers)\n",
    "\n",
    "\n"
   ]
  },
  {
   "cell_type": "markdown",
   "metadata": {},
   "source": [
    "As seen, the survived and non-survived in regards to passenger classes have been categorised in order to calculate Chi-square of independance for the above factors. Based on the results above, the p-value is 6.7098617497569091e-21 which is extremely quite low to .05 (< 0.05). This is indicating the correlation between survived passengers and their travel class. As such, we can reject the null hypotheses and confirm the depenedency of higher chance of survival rate for passenger and having a high passenger class.\n"
   ]
  },
  {
   "cell_type": "markdown",
   "metadata": {},
   "source": [
    "#### **Question 4 - A**\n",
    "\n",
    "- Did family relations on the ship inrease/decrease Women survivability ?\n",
    "      \n",
    "     - having (Sibling or Spouse) vs without having (Sibling or Spouse) "
   ]
  },
  {
   "cell_type": "code",
   "execution_count": 45,
   "metadata": {
    "scrolled": true
   },
   "outputs": [
    {
     "name": "stdout",
     "output_type": "stream",
     "text": [
      "Total number of women with sibling/suppose: 86\n",
      "survived women with sibling/suppose: 64.0\n",
      "non servived women with sibling/suppose: 22.0\n",
      "Average age of survived women with sibling/suppose: 34.95\n",
      "Percentage of survived women with sibling/suppose: 74.42%\n"
     ]
    }
   ],
   "source": [
    "#Categorise the dataset into: data of survived women with Sibling and Suppose \n",
    "#and data of survived women without Sibling and Suppose\n",
    "woman_data_with_SibSp = titanic_data_age.loc[\n",
    "    (titanic_data_age['Status'] == 'Woman')&(titanic_data_age['SibSp'] > 0)]\n",
    "\n",
    "woman_data_without_SibSp = titanic_data_age.loc[\n",
    "    (titanic_data_age['Status'] == 'Woman') & (titanic_data_age['SibSp'] == 0)]\n",
    "\n",
    "#Find the total number of women with Sibling and Suppose(in general), survived women with Sibling and Suppose\n",
    "total_women_SibSp= woman_data_with_SibSp['Survived'].count()\n",
    "survived_woman_SibSp_count= float(len((woman_data_with_SibSp[woman_data_with_SibSp['Survived'] == 1])))\n",
    "survived_woman_SibSp=woman_data_with_SibSp[woman_data_with_SibSp['Survived'] == 1]\n",
    "\n",
    "\n",
    "#Find the survival rate of survived women with Sibling and Suppose\n",
    "rate_survived_woman_SibSp = round(((survived_woman_SibSp_count/total_women_SibSp)*100),2)\n",
    "\n",
    "\n",
    "#Display results\n",
    "print 'Total number of women with sibling/suppose: {}\\n\\\n",
    "survived women with sibling/suppose: {}\\n\\\n",
    "non servived women with sibling/suppose: {}\\n\\\n",
    "Average age of survived women with sibling/suppose: {}\\n\\\n",
    "Percentage of survived women with sibling/suppose: {}%'.format(total_women_SibSp, survived_woman_SibSp_count, \n",
    "        (total_women_SibSp-survived_woman_SibSp_count), round(survived_woman_SibSp[\"Age\"].mean(),2), rate_survived_woman_SibSp)"
   ]
  },
  {
   "cell_type": "markdown",
   "metadata": {},
   "source": [
    "As shown, there is a high possibilty of surviving for woman with sibling or spouse than those without"
   ]
  },
  {
   "cell_type": "markdown",
   "metadata": {},
   "source": [
    "   #### **Question 4 - B  **\n",
    "\n",
    "- Did family relations on the ship inrease/decrease Women survivability ?\n",
    "      \n",
    "     - having Children or Parent vs without having Children or Parent"
   ]
  },
  {
   "cell_type": "code",
   "execution_count": 46,
   "metadata": {},
   "outputs": [
    {
     "data": {
      "text/plain": [
       "<matplotlib.text.Text at 0xdac5ba8>"
      ]
     },
     "execution_count": 46,
     "metadata": {},
     "output_type": "execute_result"
    },
    {
     "data": {
      "image/png": "[encoded data removed]",
      "text/plain": [
       "<matplotlib.figure.Figure at 0xc09fba8>"
      ]
     },
     "metadata": {},
     "output_type": "display_data"
    }
   ],
   "source": [
    "#Graph of \"Survived\" grouped by \"Status\" and \"Parch\" values\n",
    "fig9 = sns.barplot(x=\"Status\", y=\"Survived\", hue=\"Parch\", data=titanic_data_age,saturation=.9)\n",
    "sns.plt.suptitle(\"Count of Survived by Status and having Relatives\", size=14)"
   ]
  },
  {
   "cell_type": "markdown",
   "metadata": {},
   "source": [
    "Obviously, the graph above shows that the total number of survived passenger with relatives exceeded those without ones. Therefore, more concentration will be given to this feature by narrowing the anlalysis to the case of Woman which has the highest number of survivors than men and children. As such, women case only has been chosen as experiment as folows:"
   ]
  },
  {
   "cell_type": "code",
   "execution_count": 47,
   "metadata": {},
   "outputs": [
    {
     "name": "stdout",
     "output_type": "stream",
     "text": [
      "Total number of women with parents/children: 70\n",
      "survived women with parents/children: 53.0\n",
      "non servived women with parents/children: 17.0\n",
      "Average age of survived women with parents/children: 32.91\n",
      "Percentage of survived women with parents/children: 75.71%\n"
     ]
    }
   ],
   "source": [
    "#Categorise the dataset into: data of survived women with Children and Parent \n",
    "#and data of survived women without Children and Parent \n",
    "woman_data_with_Parch = titanic_data_age.loc[\n",
    "    (titanic_data_age['Status'] == 'Woman')&(titanic_data_age['Parch'] > 0)]\n",
    "\n",
    "woman_data_without_Parch = titanic_data_age.loc[\n",
    "    (titanic_data_age['Status'] == 'Woman') & (titanic_data_age['Parch'] == 0)]\n",
    "\n",
    "#Find the total number of Women with Children and Parent (in general), Survived Women with Children and Parent\n",
    "survived_woman_Parch=woman_data_with_Parch[woman_data_with_Parch['Survived'] == 1]\n",
    "survived_woman_Parch_count =float(len((woman_data_with_Parch[woman_data_with_Parch['Survived'] == 1])))\n",
    "total_woman_Parch = woman_data_with_Parch['Survived'].count()\n",
    "\n",
    "\n",
    "\n",
    "#Find the survival rate of Survived Women with Children and Parent\n",
    "rate_survived_woman_Parch = round(((survived_woman_Parch_count/total_woman_Parch)*100),2)\n",
    "\n",
    "\n",
    "\n",
    "#Display results\n",
    "print 'Total number of women with parents/children: {}\\n\\\n",
    "survived women with parents/children: {}\\n\\\n",
    "non servived women with parents/children: {}\\n\\\n",
    "Average age of survived women with parents/children: {}\\n\\\n",
    "Percentage of survived women with parents/children: {}%'.format(total_woman_Parch, survived_woman_Parch_count, \n",
    "        (total_woman_Parch-survived_woman_Parch_count), round(survived_woman_Parch[\"Age\"].mean(),2), rate_survived_woman_Parch)"
   ]
  },
  {
   "cell_type": "markdown",
   "metadata": {},
   "source": [
    "Continueously, the number of survived women with parents or children is much greater than those without. we can conclude that women who have relatives on Titanic had a higher chance of surviving. Therefore, we will examine the chance of suriving between passengers in general with relatives and those without relatives for the whole sample size, as follows:"
   ]
  },
  {
   "cell_type": "code",
   "execution_count": 48,
   "metadata": {},
   "outputs": [
    {
     "name": "stdout",
     "output_type": "stream",
     "text": [
      "The number of survival with relatives: 160\n",
      "The number of survival without relatives: 130\n",
      "\n",
      " t-statistic is : 5.33735310564 \n",
      " p-value is : 1.26916682625e-07\n"
     ]
    }
   ],
   "source": [
    "#Categorise the dataset into: data of survival with relatives \n",
    "#and data of survival without relatives\n",
    "with_relatives = titanic_data_age[(titanic_data_age['SibSp'] > 0) | (titanic_data_age['Parch'] > 0)]['Survived']\n",
    "non_relatives = titanic_data_age[(titanic_data_age['SibSp'] == 0) & (titanic_data_age['Parch'] == 0)]['Survived']\n",
    "\n",
    "#Find t-test and P-value \n",
    "t, p = stats.ttest_ind(with_relatives, non_relatives)\n",
    "\n",
    "#Display results\n",
    "print \"The number of survival with relatives: {}\".format(with_relatives.sum())\n",
    "print \"The number of survival without relatives: {}\".format(non_relatives.sum())\n",
    "print \"\\n t-statistic is : {} \\n p-value is : {}\".format(t,p)\n"
   ]
  },
  {
   "cell_type": "markdown",
   "metadata": {},
   "source": [
    "Based on the results above, the p-value is 1.26916682625e-07 which is quite lower < 0.05. This is indicating the correlation between survived passengers and having their relatives on board. As such, we can reject the null hypotheses and confirm the depenedency of higher chance of survival rate for passenger and having relatives."
   ]
  },
  {
   "cell_type": "markdown",
   "metadata": {},
   "source": [
    "## *Conclusion*\n",
    "\n",
    "Titanic was one of the most tragic story for more than a century. As such, there is a great interest in defining the factors behind being survived as a passenger on that ship. Thus, a deep analysis has been conducted that includes comparing the outcomes of each question and performing statistical calculations. We can end up with the following points: \n",
    "- The sample represent 40% of population with some missing values that might affect the outcome (such as Age with 20% missing values.\n",
    "- The most leading factors of surviving rate are: \"Sex\", \"Pclass\" and \"Having relatives\" wether are: suppose, sibling, parents or children.\n",
    "- The Age was not a deciding factor of survival rate.\n",
    "- Men rates of survival were more less than half compared to women and children within the same class.\n",
    "- The passengers at 1st class were most likely to survive than other classes rgardless of gender. \n",
    "- The female on 1st and 2nd class at the ship with relative had the highest chance of survivg with 75% compared to other women\n",
    "- The men on 3rd and 2nd class at the ship had the lowest chance of survivng ranging from 6% to 13% only.\n",
    "\n",
    "\n",
    "## *References*\n",
    "\n",
    "- https://pandas.pydata.org/\n",
    "- https://docs.scipy.org/doc/scipy/reference/index.html\n",
    "- https://www.kaggle.com/c/titanic\n",
    "- http://seaborn.pydata.org/tutorial/categorical.html\n",
    "- https://en.wikipedia.org/wiki/RMS_Titanic\n",
    "- https://classroom.udacity.com\n"
   ]
  }
 ],
 "metadata": {
  "kernelspec": {
   "display_name": "Python 2",
   "language": "python",
   "name": "python2"
  },
  "language_info": {
   "codemirror_mode": {
    "name": "ipython",
    "version": 2
   },
   "file_extension": ".py",
   "mimetype": "text/x-python",
   "name": "python",
   "nbconvert_exporter": "python",
   "pygments_lexer": "ipython2",
   "version": "2.7.13"
  }
 },
 "nbformat": 4,
 "nbformat_minor": 2
}
